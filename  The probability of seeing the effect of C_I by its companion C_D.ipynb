{
 "cells": [
  {
   "cell_type": "code",
   "execution_count": 1,
   "id": "10ad1657",
   "metadata": {},
   "outputs": [],
   "source": [
    "import matplotlib.pyplot as plt\n",
    "import simpy\n",
    "import numpy as np\n",
    "from sympy import *\n",
    "import statistics\n",
    "import random"
   ]
  },
  {
   "cell_type": "code",
   "execution_count": 3,
   "id": "9e944388",
   "metadata": {},
   "outputs": [],
   "source": [
    "\n",
    "class Myqueue:\n",
    "    def __init__(self, env, lam, mu_2):\n",
    "        self.env = env\n",
    "        self.server_1 = simpy.Resource(self.env, 10000)\n",
    "        self.q_2 = simpy.Store(env)\n",
    "        self.mean_arrival = 1/lam\n",
    "        self.mean_service = 1/mu_2\n",
    "        self.n = 0\n",
    "        self.data = {'Arrival D':[], 'Departure D':[], 'Arrival I':[], 'Departure I':[], 'idle':[0], 'delay':[]}\n",
    "\n",
    "\n",
    "    def queue_1(self):\n",
    "            x = np.longfloat(self.env.now)\n",
    "            self.data['Arrival I'].append(x)\n",
    "            self.q_2.put('CI')\n",
    "            with self.server_1.request() as request:\n",
    "                yield request\n",
    "                yield self.env.timeout(random.expovariate(0.5))\n",
    "                #np.random.pareto(a=2)\n",
    "                #np.longfloat(np.random.uniform(0,10)) + np.longfloat(np.random.uniform(0,10)) + random.expovariate(random.choice((0.1,2,3)))\n",
    "                #np.longfloat(np.random.uniform(0,10))\n",
    "                #random.expovariate(random.choice((0.1,2,3)))\n",
    "            self.q_2.put('CD')\n",
    "            y = np.longfloat(self.env.now)\n",
    "            self.data['Arrival D'].append(y)\n",
    "        \n",
    "            if len(self.data['Arrival D']) > 10**5:\n",
    "                if x < self.data['idle'][-1] < y:\n",
    "                    self.n = self.n + 1\n",
    "                \n",
    "    def queue_2(self):\n",
    "        while True:\n",
    "            y = yield self.q_2.get()\n",
    "            if y == 'CI':\n",
    "                if len(self.q_2.items) == 0:\n",
    "                    self.q_2.put('1')\n",
    "                    yield self.env.timeout(np.longfloat(np.random.exponential(self.mean_service)))\n",
    "                    self.data['Departure I'].append(np.longfloat(self.env.now))\n",
    "                    self.q_2.get()\n",
    "                else:\n",
    "                    yield self.env.timeout(np.longfloat(np.random.exponential(self.mean_service)))\n",
    "                    self.data['Departure I'].append(np.longfloat(self.env.now))\n",
    "            else:\n",
    "                if len(self.q_2.items) == 0:\n",
    "                    self.q_2.put('1')\n",
    "                    yield self.env.timeout(np.longfloat(np.random.exponential(self.mean_service)))\n",
    "                    self.data['Departure D'].append(np.longfloat(self.env.now))\n",
    "                    self.q_2.get()\n",
    "                else:\n",
    "                    yield self.env.timeout(np.longfloat(np.random.exponential(self.mean_service)))\n",
    "                    self.data['Departure D'].append(np.longfloat(self.env.now))\n",
    "\n",
    "            if len(self.q_2.items) == 0:\n",
    "                self.data['idle'].append(np.longfloat(self.env.now))\n",
    "\n",
    "\n",
    "    def arrival(self):\n",
    "        while True:\n",
    "            yield self.env.timeout(np.longfloat(np.random.exponential(self.mean_arrival)))\n",
    "            self.env.process(self.queue_1())\n"
   ]
  },
  {
   "cell_type": "code",
   "execution_count": 5,
   "id": "13015adb",
   "metadata": {},
   "outputs": [],
   "source": [
    "lam, mu, n = 0.3, 1, 2*10**6\n",
    "env = simpy.Environment()\n",
    "net = Myqueue(env, lam, mu)\n",
    "env.process(net.arrival())\n",
    "env.process(net.queue_2())\n",
    "env.run(n) "
   ]
  },
  {
   "cell_type": "code",
   "execution_count": 6,
   "id": "4ae909ed",
   "metadata": {},
   "outputs": [
    {
     "name": "stdout",
     "output_type": "stream",
     "text": [
      "3.6741587087940775 3.007769635729185 0.6663890730648925\n"
     ]
    }
   ],
   "source": [
    "l_1 = len(net.data['Departure D'])\n",
    "l_2 = len(net.data['Departure I'])\n",
    "\n",
    "l1 = int(l_1*0.3)   #margin\n",
    "l2 = int(l_2*0.3)   #margin\n",
    "\n",
    "W_D = (sum(net.data['Departure D'][l1:-l1+l_1]) - sum(net.data['Arrival D'][l1:-l1+l_1])) / len(net.data['Departure D'][l1:-l1+l_1])\n",
    "W_I = (sum(net.data['Departure I'][l2:-l2+l_2]) - sum(net.data['Arrival I'][l2:-l2+l_2])) / len(net.data['Departure I'][l2:-l2+l_2])\n",
    "print(W_D, W_I, W_D-W_I)"
   ]
  },
  {
   "cell_type": "code",
   "execution_count": 7,
   "id": "00db8548",
   "metadata": {},
   "outputs": [],
   "source": [
    "probability = 1-net.n/len(net.data['Arrival I'][10**5:])"
   ]
  },
  {
   "cell_type": "code",
   "execution_count": 8,
   "id": "894d6235",
   "metadata": {},
   "outputs": [
    {
     "name": "stdout",
     "output_type": "stream",
     "text": [
      "Error =  0.11667789727837916 ,     probability = 0.6671675100869865\n"
     ]
    }
   ],
   "source": [
    "print('Error = ',(probability - (W_D-W_I)*mu)/probability*100, ',     probability =', probability)"
   ]
  },
  {
   "cell_type": "code",
   "execution_count": null,
   "id": "a6cf0476-d00d-41e0-8420-66a816b23735",
   "metadata": {},
   "outputs": [],
   "source": []
  }
 ],
 "metadata": {
  "kernelspec": {
   "display_name": "Python 3 (ipykernel)",
   "language": "python",
   "name": "python3"
  },
  "language_info": {
   "codemirror_mode": {
    "name": "ipython",
    "version": 3
   },
   "file_extension": ".py",
   "mimetype": "text/x-python",
   "name": "python",
   "nbconvert_exporter": "python",
   "pygments_lexer": "ipython3",
   "version": "3.11.7"
  }
 },
 "nbformat": 4,
 "nbformat_minor": 5
}
